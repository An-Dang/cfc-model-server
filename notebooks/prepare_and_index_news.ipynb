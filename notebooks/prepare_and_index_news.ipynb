{
 "cells": [
  {
   "cell_type": "markdown",
   "metadata": {
    "jupyter": {
     "outputs_hidden": true
    }
   },
   "source": [
    "## Load real corona news and data to index"
   ]
  },
  {
   "cell_type": "code",
   "execution_count": 1,
   "metadata": {},
   "outputs": [],
   "source": [
    "import pandas as pd\n",
    "import os\n",
    "import random\n",
    "import json"
   ]
  },
  {
   "cell_type": "code",
   "execution_count": 2,
   "metadata": {},
   "outputs": [
    {
     "data": {
      "text/html": [
       "<div>\n",
       "<style scoped>\n",
       "    .dataframe tbody tr th:only-of-type {\n",
       "        vertical-align: middle;\n",
       "    }\n",
       "\n",
       "    .dataframe tbody tr th {\n",
       "        vertical-align: top;\n",
       "    }\n",
       "\n",
       "    .dataframe thead th {\n",
       "        text-align: right;\n",
       "    }\n",
       "</style>\n",
       "<table border=\"1\" class=\"dataframe\">\n",
       "  <thead>\n",
       "    <tr style=\"text-align: right;\">\n",
       "      <th></th>\n",
       "      <th>fake</th>\n",
       "      <th>real</th>\n",
       "      <th>real_url</th>\n",
       "    </tr>\n",
       "  </thead>\n",
       "  <tbody>\n",
       "    <tr>\n",
       "      <th>0</th>\n",
       "      <td>Dort ruft eine Frau zu Hamsterkäufen auf. „Bev...</td>\n",
       "      <td>Märkte öffnen ganz normal. Wir wollen für unse...</td>\n",
       "      <td>https://www.bild.de/politik/inland/politik-inl...</td>\n",
       "    </tr>\n",
       "    <tr>\n",
       "      <th>1</th>\n",
       "      <td>Ausgangssperre ab Montag, den 23.03.2020 für B...</td>\n",
       "      <td>NaN</td>\n",
       "      <td>https://www.bild.de/politik/inland/politik-inl...</td>\n",
       "    </tr>\n",
       "    <tr>\n",
       "      <th>2</th>\n",
       "      <td>Arbeitsverbot ab dem 16.03.-21.03 wegen corona...</td>\n",
       "      <td>Zahlreiche Berufe können bzw. müssen weiter au...</td>\n",
       "      <td>https://www.bild.de/politik/inland/politik-inl...</td>\n",
       "    </tr>\n",
       "    <tr>\n",
       "      <th>3</th>\n",
       "      <td>Eine Person mit laufender Nase mit Auswurf, ha...</td>\n",
       "      <td>Eine Person mit laufender Nase mit Auswurf: ei...</td>\n",
       "      <td>https://www.bild.de/politik/inland/politik-inl...</td>\n",
       "    </tr>\n",
       "    <tr>\n",
       "      <th>4</th>\n",
       "      <td>Das Coronavirus stirbt bei 26 bis 27 Grad.</td>\n",
       "      <td>Es ist noch nicht klar, ob wärmere Temperature...</td>\n",
       "      <td>https://www.bild.de/politik/inland/politik-inl...</td>\n",
       "    </tr>\n",
       "  </tbody>\n",
       "</table>\n",
       "</div>"
      ],
      "text/plain": [
       "                                                fake  \\\n",
       "0  Dort ruft eine Frau zu Hamsterkäufen auf. „Bev...   \n",
       "1  Ausgangssperre ab Montag, den 23.03.2020 für B...   \n",
       "2  Arbeitsverbot ab dem 16.03.-21.03 wegen corona...   \n",
       "3  Eine Person mit laufender Nase mit Auswurf, ha...   \n",
       "4         Das Coronavirus stirbt bei 26 bis 27 Grad.   \n",
       "\n",
       "                                                real  \\\n",
       "0  Märkte öffnen ganz normal. Wir wollen für unse...   \n",
       "1                                                NaN   \n",
       "2  Zahlreiche Berufe können bzw. müssen weiter au...   \n",
       "3  Eine Person mit laufender Nase mit Auswurf: ei...   \n",
       "4  Es ist noch nicht klar, ob wärmere Temperature...   \n",
       "\n",
       "                                            real_url  \n",
       "0  https://www.bild.de/politik/inland/politik-inl...  \n",
       "1  https://www.bild.de/politik/inland/politik-inl...  \n",
       "2  https://www.bild.de/politik/inland/politik-inl...  \n",
       "3  https://www.bild.de/politik/inland/politik-inl...  \n",
       "4  https://www.bild.de/politik/inland/politik-inl...  "
      ]
     },
     "execution_count": 2,
     "metadata": {},
     "output_type": "execute_result"
    }
   ],
   "source": [
    "data_path = \"../data/\"\n",
    "fake_news_path = os.path.join(data_path+\"fake_news/\", \"fake_news_corona.csv\")\n",
    "\n",
    "news_data_frame = pd.read_csv(fake_news_path, sep=\";\", encoding=\"utf8\", names=[\"fake\",\"real\",\"real_url\"])\n",
    "news_data_frame.head()"
   ]
  },
  {
   "cell_type": "markdown",
   "metadata": {},
   "source": [
    "## Create dataset"
   ]
  },
  {
   "cell_type": "code",
   "execution_count": 3,
   "metadata": {},
   "outputs": [],
   "source": [
    "dataset_path = \"../data/preprocessed/\"\n",
    "data_file = os.path.join(dataset_path, \"fake_news_train.tsv\")\n",
    "\n",
    "data_frame = pd.DataFrame(columns=[\"text\", \"label\"])\n",
    "for index, row in news_data_frame.iterrows():\n",
    "    fake = row[\"fake\"]\n",
    "    data_frame = data_frame.append({\"text\": fake, \"label\": \"fake\"}, ignore_index=True)\n",
    "    \n",
    "    real = row[\"real\"]\n",
    "    if not pd.isna(real):\n",
    "        data_frame = data_frame.append({\"text\": real, \"label\": \"real\"}, ignore_index=True)\n",
    "        \n",
    "    real_url = row[\"real_url\"]\n",
    "\n",
    "data_frame.to_csv(data_file, sep=\"\\t\", encoding=\"utf8\", index=False)"
   ]
  },
  {
   "cell_type": "markdown",
   "metadata": {},
   "source": [
    "## Create mock jsons"
   ]
  },
  {
   "cell_type": "code",
   "execution_count": 4,
   "metadata": {},
   "outputs": [
    {
     "ename": "AttributeError",
     "evalue": "can't set attribute",
     "output_type": "error",
     "traceback": [
      "\u001b[1;31m---------------------------------------------------------------------------\u001b[0m",
      "\u001b[1;31mAttributeError\u001b[0m                            Traceback (most recent call last)",
      "\u001b[1;32m<ipython-input-4-d41563d83330>\u001b[0m in \u001b[0;36m<module>\u001b[1;34m\u001b[0m\n\u001b[0;32m      7\u001b[0m \u001b[1;32mfor\u001b[0m \u001b[0mcity\u001b[0m \u001b[1;32min\u001b[0m \u001b[0mcities\u001b[0m\u001b[1;33m:\u001b[0m\u001b[1;33m\u001b[0m\u001b[1;33m\u001b[0m\u001b[0m\n\u001b[0;32m      8\u001b[0m     \u001b[0mlocation\u001b[0m \u001b[1;33m=\u001b[0m \u001b[0mgeolocator\u001b[0m\u001b[1;33m.\u001b[0m\u001b[0mgeocode\u001b[0m\u001b[1;33m(\u001b[0m\u001b[0mcity\u001b[0m\u001b[1;33m)\u001b[0m\u001b[1;33m\u001b[0m\u001b[1;33m\u001b[0m\u001b[0m\n\u001b[1;32m----> 9\u001b[1;33m     \u001b[0mlocation\u001b[0m\u001b[1;33m.\u001b[0m\u001b[0mlatitude\u001b[0m \u001b[1;33m+=\u001b[0m \u001b[0mrand_lat\u001b[0m\u001b[1;33m\u001b[0m\u001b[1;33m\u001b[0m\u001b[0m\n\u001b[0m\u001b[0;32m     10\u001b[0m     \u001b[0mlocation\u001b[0m\u001b[1;33m.\u001b[0m\u001b[0mlongitude\u001b[0m \u001b[1;33m+=\u001b[0m \u001b[0mrand_long\u001b[0m\u001b[1;33m\u001b[0m\u001b[1;33m\u001b[0m\u001b[0m\n\u001b[0;32m     11\u001b[0m     \u001b[0mlocations\u001b[0m\u001b[1;33m.\u001b[0m\u001b[0mappend\u001b[0m\u001b[1;33m(\u001b[0m\u001b[0mlocation\u001b[0m\u001b[1;33m)\u001b[0m\u001b[1;33m\u001b[0m\u001b[1;33m\u001b[0m\u001b[0m\n",
      "\u001b[1;31mAttributeError\u001b[0m: can't set attribute"
     ]
    }
   ],
   "source": [
    "from geopy.geocoders import Nominatim\n",
    "geolocator = Nominatim(user_agent=\"specify_your_app_name_here\")\n",
    "cities = [\"Berlin\", \"München\", \"Hamburg\", \"Stuttgart\", \"Köln\", \"Heinsberg\", \"Bremen\", \"Potsdam\", \"Mannheim\", \"Darmstadt\", \"Kaiserslautern\", \"Nürnberg\", \"Freiburg\"]\n",
    "locations = []\n",
    "rand_lat = (0.5 - random.random()) * 0.01\n",
    "rand_long = (0.5 - random.random()) * 0.0001\n",
    "for city in cities:\n",
    "    location = geolocator.geocode(city)\n",
    "    location.latitude += rand_lat\n",
    "    location.longitude += rand_long\n",
    "    locations.append(location)"
   ]
  },
  {
   "cell_type": "code",
   "execution_count": null,
   "metadata": {},
   "outputs": [],
   "source": [
    "jsons = list()\n",
    "for index, row in news_data_frame.iterrows():\n",
    "    template = dict()\n",
    "    fake = row[\"fake\"]\n",
    "    real = row[\"real\"]\n",
    "    real_url = row[\"real_url\"]\n",
    "    \n",
    "    template[\"text\"] = fake\n",
    "    fake_prob = random.random()\n",
    "    fake_prob = max(1-fake_prob, fake_prob)\n",
    "    \n",
    "    template[\"classification\"] = {\n",
    "        \"fake\": fake_prob,\n",
    "        \"unknown\": 0.0,\n",
    "        \"real\": 1-fake_prob\n",
    "    }\n",
    "    \n",
    "    template[\"evidence\"] = []\n",
    "    if not pd.isna(real):\n",
    "        template[\"evidence\"].append({\n",
    "            \"title\": \"Real title\",\n",
    "            \"text\": real,\n",
    "            \"url\": real_url if pd.isna(real_url) else None,\n",
    "            \"for_class\": \"real\"\n",
    "        })\n",
    "        \n",
    "    location = random.choice(locations)\n",
    "    template[\"derived\"] = dict()\n",
    "    template[\"derived\"][\"locations\"] = [{\n",
    "          \"country\": \"Deutschland\",\n",
    "          \"country_code\": \"DE\",\n",
    "          \"locality\": \"Deutschland\",\n",
    "          \"region\": \"Bundesland\",\n",
    "          \"sub_region\": \"Landkreis\",\n",
    "          \"full_name\": str(location),\n",
    "          \"geo\": {\n",
    "            \"coordinates\": [\n",
    "                location.latitude, \n",
    "                location.longitude\n",
    "            ],\n",
    "            \"type\": \"point\"\n",
    "          }\n",
    "        } \n",
    "    ]\n",
    "    \n",
    "    jsons.append(template)\n",
    "\n",
    "# save list in file\n",
    "with open(\"../data/mock_jsons/mock_jsons.json\",\"w+\", encoding=\"utf8\", newline='') as json_file:\n",
    "    json.dump(jsons, json_file, indent=2, ensure_ascii=False)"
   ]
  },
  {
   "cell_type": "code",
   "execution_count": null,
   "metadata": {},
   "outputs": [],
   "source": []
  }
 ],
 "metadata": {
  "kernelspec": {
   "display_name": "Python 3",
   "language": "python",
   "name": "python3"
  },
  "language_info": {
   "codemirror_mode": {
    "name": "ipython",
    "version": 3
   },
   "file_extension": ".py",
   "mimetype": "text/x-python",
   "name": "python",
   "nbconvert_exporter": "python",
   "pygments_lexer": "ipython3",
   "version": "3.7.6"
  }
 },
 "nbformat": 4,
 "nbformat_minor": 4
}
